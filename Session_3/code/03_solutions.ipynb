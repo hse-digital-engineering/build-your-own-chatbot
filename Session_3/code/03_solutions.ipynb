{
 "cells": [
  {
   "cell_type": "markdown",
   "metadata": {},
   "source": [
    "#### Task 1: Simple vector embedding generation\n",
    "\n",
    "**Objective:**\n",
    "Generate vector embeddings from text data.\n",
    "\n",
    "**Task Description:**\n",
    "\n",
    "- load huggingface embedding model (``model_name=\"sentence-transformers/all-mpnet-base-v2\"``)\n",
    "- embed simple text queries\n",
    "\n",
    "How to select the right embedding model: [MTEB - Massive Text Embedding Benchmark](https://huggingface.co/blog/mteb)\n",
    "\n",
    "**Useful links:**\n",
    "\n",
    "- [Langchain Chroma](https://python.langchain.com/v0.2/docs/integrations/vectorstores/chroma/)\n"
   ]
  },
  {
   "cell_type": "code",
   "execution_count": 1,
   "metadata": {},
   "outputs": [
    {
     "name": "stderr",
     "output_type": "stream",
     "text": [
      "/home/johbaum8/DEV/build-your-own-chatbot/.venv/lib/python3.11/site-packages/sentence_transformers/cross_encoder/CrossEncoder.py:11: TqdmExperimentalWarning: Using `tqdm.autonotebook.tqdm` in notebook mode. Use `tqdm.tqdm` instead to force console mode (e.g. in jupyter console)\n",
      "  from tqdm.autonotebook import tqdm, trange\n"
     ]
    },
    {
     "data": {
      "application/vnd.jupyter.widget-view+json": {
       "model_id": "9427441eaf4749438eff54a742ac6710",
       "version_major": 2,
       "version_minor": 0
      },
      "text/plain": [
       "modules.json:   0%|          | 0.00/349 [00:00<?, ?B/s]"
      ]
     },
     "metadata": {},
     "output_type": "display_data"
    },
    {
     "data": {
      "application/vnd.jupyter.widget-view+json": {
       "model_id": "4b41c3e4ee30468a9dbceccf00eb90ca",
       "version_major": 2,
       "version_minor": 0
      },
      "text/plain": [
       "config_sentence_transformers.json:   0%|          | 0.00/116 [00:00<?, ?B/s]"
      ]
     },
     "metadata": {},
     "output_type": "display_data"
    },
    {
     "data": {
      "application/vnd.jupyter.widget-view+json": {
       "model_id": "3b09c2e1c6c2474d841bb35d6cbb5d7e",
       "version_major": 2,
       "version_minor": 0
      },
      "text/plain": [
       "README.md:   0%|          | 0.00/10.6k [00:00<?, ?B/s]"
      ]
     },
     "metadata": {},
     "output_type": "display_data"
    },
    {
     "data": {
      "application/vnd.jupyter.widget-view+json": {
       "model_id": "7b51ea46984142c280ab7ac9adbe424b",
       "version_major": 2,
       "version_minor": 0
      },
      "text/plain": [
       "sentence_bert_config.json:   0%|          | 0.00/53.0 [00:00<?, ?B/s]"
      ]
     },
     "metadata": {},
     "output_type": "display_data"
    },
    {
     "data": {
      "application/vnd.jupyter.widget-view+json": {
       "model_id": "3708f2fa81004f31a8d2551f44926962",
       "version_major": 2,
       "version_minor": 0
      },
      "text/plain": [
       "config.json:   0%|          | 0.00/571 [00:00<?, ?B/s]"
      ]
     },
     "metadata": {},
     "output_type": "display_data"
    },
    {
     "data": {
      "application/vnd.jupyter.widget-view+json": {
       "model_id": "c5b00b9dadc0407bb07f7e6cfb7f06ca",
       "version_major": 2,
       "version_minor": 0
      },
      "text/plain": [
       "model.safetensors:   0%|          | 0.00/438M [00:00<?, ?B/s]"
      ]
     },
     "metadata": {},
     "output_type": "display_data"
    },
    {
     "data": {
      "application/vnd.jupyter.widget-view+json": {
       "model_id": "2117a9d4e7b14c5eb688d0aec3380629",
       "version_major": 2,
       "version_minor": 0
      },
      "text/plain": [
       "tokenizer_config.json:   0%|          | 0.00/363 [00:00<?, ?B/s]"
      ]
     },
     "metadata": {},
     "output_type": "display_data"
    },
    {
     "data": {
      "application/vnd.jupyter.widget-view+json": {
       "model_id": "a90e4184675643c49ac8757fa7e12c5f",
       "version_major": 2,
       "version_minor": 0
      },
      "text/plain": [
       "vocab.txt:   0%|          | 0.00/232k [00:00<?, ?B/s]"
      ]
     },
     "metadata": {},
     "output_type": "display_data"
    },
    {
     "data": {
      "application/vnd.jupyter.widget-view+json": {
       "model_id": "9e824eaaf06a4c3e9899273eea4f9069",
       "version_major": 2,
       "version_minor": 0
      },
      "text/plain": [
       "tokenizer.json:   0%|          | 0.00/466k [00:00<?, ?B/s]"
      ]
     },
     "metadata": {},
     "output_type": "display_data"
    },
    {
     "data": {
      "application/vnd.jupyter.widget-view+json": {
       "model_id": "adb1bdc82032442085435c19293c3456",
       "version_major": 2,
       "version_minor": 0
      },
      "text/plain": [
       "special_tokens_map.json:   0%|          | 0.00/239 [00:00<?, ?B/s]"
      ]
     },
     "metadata": {},
     "output_type": "display_data"
    },
    {
     "name": "stderr",
     "output_type": "stream",
     "text": [
      "/home/johbaum8/DEV/build-your-own-chatbot/.venv/lib/python3.11/site-packages/transformers/tokenization_utils_base.py:1601: FutureWarning: `clean_up_tokenization_spaces` was not set. It will be set to `True` by default. This behavior will be depracted in transformers v4.45, and will be then set to `False` by default. For more details check this issue: https://github.com/huggingface/transformers/issues/31884\n",
      "  warnings.warn(\n"
     ]
    },
    {
     "data": {
      "application/vnd.jupyter.widget-view+json": {
       "model_id": "e98ac5fce0824f5996bd28da7278f108",
       "version_major": 2,
       "version_minor": 0
      },
      "text/plain": [
       "1_Pooling/config.json:   0%|          | 0.00/190 [00:00<?, ?B/s]"
      ]
     },
     "metadata": {},
     "output_type": "display_data"
    }
   ],
   "source": [
    "from langchain_huggingface import HuggingFaceEmbeddings\n",
    "\n",
    "embedding_model = HuggingFaceEmbeddings(model_name=\"sentence-transformers/all-mpnet-base-v2\")"
   ]
  },
  {
   "cell_type": "code",
   "execution_count": 2,
   "metadata": {},
   "outputs": [
    {
     "name": "stdout",
     "output_type": "stream",
     "text": [
      "Embedding vector length: 768\n",
      "[-0.04895174503326416, -0.039861928671598434, -0.021562742069363594, 0.009908485226333141, -0.03810397908091545, 0.012684328481554985, 0.04349445924162865, 0.07183387875556946, 0.00974861066788435, -0.006987082771956921]\n"
     ]
    }
   ],
   "source": [
    "text = \"This is a test document.\"\n",
    "\n",
    "query_vector = embedding_model.embed_query(text)\n",
    "\n",
    "print(f\"Embedding vector length: {len(query_vector)}\")\n",
    "print(query_vector[:10])"
   ]
  },
  {
   "cell_type": "markdown",
   "metadata": {},
   "source": [
    "#### Task 2: Generate embedding vectors with custom dataset\n",
    "\n",
    "**Objective:**\n",
    "Load custom dataset, preprocess it and generate vector embeddings.\n",
    "\n",
    "**Task Description:**\n",
    "\n",
    "- load pdf document \"AI_Book.pdf\" via langchain document loader: ``PyPDFLoader``\n",
    "- use RecursiveCharacterTextSplitter to split documents into chunks\n",
    "- generate embeddings for single documents\n",
    "\n",
    "**RecursiveCharacterTextSplitter:**\n",
    "\n",
    "This text splitter is the recommended one for generic text. It is parameterized by a list of characters. It tries to split on them in order until the chunks are small enough. The default list is `[\"\\n\\n\", \"\\n\", \" \", \"\"]`. This has the effect of trying to keep all paragraphs (and then sentences, and then words) together as long as possible, as those would generically seem to be the strongest semantically related pieces of text.\n",
    "\n",
    "**Useful links:**\n",
    "\n",
    "- [Langchain PyPDFLoader](https://api.python.langchain.com/en/latest/document_loaders/langchain_community.document_loaders.pdf.PyPDFLoader.html)\n",
    "- [Langchain RecursiveCharacterTextSplitter](https://api.python.langchain.com/en/latest/character/langchain_text_splitters.character.RecursiveCharacterTextSplitter.html)\n"
   ]
  },
  {
   "cell_type": "code",
   "execution_count": 3,
   "metadata": {},
   "outputs": [
    {
     "name": "stdout",
     "output_type": "stream",
     "text": [
      "page_content='Aurélien GéronHands-on Machine Learning with\n",
      "Scikit-Learn, Keras, and\n",
      "TensorFlow\n",
      "Concepts, Tools, and Techniques to\n",
      "Build Intelligent SystemsSECOND EDITION\n",
      "Boston Farnham Sebastopol Tokyo Beijing Boston Farnham Sebastopol Tokyo Beijing' metadata={'source': './AI_Book.pdf', 'page': 2}\n"
     ]
    }
   ],
   "source": [
    "from langchain_community.document_loaders import PyPDFLoader\n",
    "from langchain_text_splitters import RecursiveCharacterTextSplitter\n",
    "import re\n",
    "\n",
    "pdf_doc = \"./AI_Book.pdf\"\n",
    "\n",
    "# Create pdf data loader\n",
    "loader = PyPDFLoader(pdf_doc)\n",
    "\n",
    "# Load and split documents in chunks\n",
    "pages_chunked = loader.load_and_split(text_splitter=RecursiveCharacterTextSplitter())\n",
    "\n",
    "# Function to clean text by removing invalid unicode characters, including surrogate pairs\n",
    "def clean_text(text):\n",
    "    # Remove surrogate pairs\n",
    "    text = re.sub(r'[\\ud800-\\udfff]', '', text)\n",
    "    # Optionally remove non-ASCII characters (depends on your use case)\n",
    "    text = re.sub(r'[^\\x00-\\x7F]+', '', text)\n",
    "    return text\n",
    "\n",
    "pages_chunked_cleaned = [clean_text(chunk.page_content) for chunk in pages_chunked]\n",
    "\n",
    "print(pages_chunked[0])"
   ]
  },
  {
   "cell_type": "code",
   "execution_count": 4,
   "metadata": {},
   "outputs": [
    {
     "name": "stdout",
     "output_type": "stream",
     "text": [
      "page_content='978-1-492-03264-9\n",
      "[LSI]Hands-on Machine Learning with Scikit-Learn, Keras, and TensorFlow\n",
      "by Aurélien Géron\n",
      "Copyright © 2019 Aurélien Géron. All rights reserved.\n",
      "Printed in the United States of America.\n",
      "Published by O’Reilly Media, Inc., 1005 Gravenstein Highway North, Sebastopol, CA 95472.\n",
      "O’Reilly books may be purchased for educational, business, or sales promotional use. Online editions are\n",
      "also available for most titles ( http://oreilly.com ). For more information, contact our corporate/institutional\n",
      "sales department: 800-998-9938 or corporate@oreilly.com .\n",
      "Editor:  Nicole Tache\n",
      "Interior Designer:  David FutatoCover Designer:  Karen Montgomery\n",
      "Illustrator:  Rebecca Demarest\n",
      "June 2019:  Second Edition\n",
      "Revision History for the Early Release\n",
      "2018-11-05: First Release\n",
      "2019-01-24: Second Release\n",
      "2019-03-07: Third Release\n",
      "2019-03-29: Fourth Release\n",
      "2019-04-22: Fifth Release\n",
      "See http://oreilly.com/catalog/errata.csp?isbn=9781492032649  for release details.\n",
      "The O’Reilly logo is a registered trademark of O’Reilly Media, Inc. Hands-on Machine Learning with\n",
      "Scikit-Learn, Keras, and TensorFlow , the cover image, and related trade dress are trademarks of O’Reilly\n",
      "Media, Inc.\n",
      "While the publisher and the author have used good faith efforts to ensure that the information and\n",
      "instructions contained in this work are accurate, the publisher and the author disclaim all responsibility\n",
      "for errors or omissions, including without limitation responsibility for damages resulting from the use of\n",
      "or reliance on this work. Use of the information and instructions contained in this work is at your own\n",
      "risk. If any code samples or other technology this work contains or describes is subject to open source\n",
      "licenses or the intellectual property rights of others, it is your responsibility to ensure that your use\n",
      "thereof complies with such licenses and/or rights.' metadata={'source': './AI_Book.pdf', 'page': 3}\n"
     ]
    }
   ],
   "source": [
    "print(pages_chunked[1])"
   ]
  },
  {
   "cell_type": "code",
   "execution_count": 5,
   "metadata": {},
   "outputs": [
    {
     "name": "stdout",
     "output_type": "stream",
     "text": [
      "Number of text chunks: 507\n"
     ]
    }
   ],
   "source": [
    "print(f\"Number of text chunks: {len(pages_chunked)}\")"
   ]
  },
  {
   "cell_type": "markdown",
   "metadata": {},
   "source": [
    "#### Task 3: Store vector embeddings from pdf document to ChromaDB vector database.\n",
    "\n",
    "**Objective:**\n",
    "\n",
    "Store vector embeddings into ChromaDB to store knowledge.\n",
    "\n",
    "**Task Description:**\n",
    "\n",
    "- create chromadb client\n",
    "- create chromadb collection\n",
    "- create langchain chroma db client\n",
    "- store text document chunks and vector embeddings to vector databases\n",
    "\n",
    "**Useful links:**\n",
    "\n",
    "- [Langchain How To](https://python.langchain.com/v0.2/docs/integrations/vectorstores/chroma/#initialization-from-client)"
   ]
  },
  {
   "cell_type": "code",
   "execution_count": 6,
   "metadata": {},
   "outputs": [],
   "source": [
    "from langchain_chroma import Chroma\n",
    "import chromadb\n",
    "import chromadb\n",
    "from chromadb.config import DEFAULT_TENANT, DEFAULT_DATABASE, Settings\n",
    "\n",
    "client = chromadb.HttpClient(\n",
    "    host=\"localhost\",\n",
    "    port=8000,\n",
    "    ssl=False,\n",
    "    headers=None,\n",
    "    settings=Settings(allow_reset=True, anonymized_telemetry=False),\n",
    "    tenant=DEFAULT_TENANT,\n",
    "    database=DEFAULT_DATABASE,\n",
    ")\n",
    "\n",
    "collection = client.get_or_create_collection(\"ai_model_book\")\n",
    "\n",
    "vector_db_from_client = Chroma(\n",
    "    client=client,\n",
    "    collection_name=\"ai_model_book\",\n",
    "    embedding_function=embedding_model,\n",
    ")"
   ]
  },
  {
   "cell_type": "code",
   "execution_count": 7,
   "metadata": {},
   "outputs": [
    {
     "data": {
      "text/plain": [
       "['f85b14d8-37e2-4148-891b-c46f92bb8cd6',\n",
       " '5531da75-cecd-403a-9255-137eae640c10',\n",
       " '6fa08388-0925-4899-834e-25786ffe383d',\n",
       " '6a4c6af6-e6dd-4fc3-8412-3b0b66c5e4f8',\n",
       " 'fc30ddf3-763a-4c19-b5ca-6de20b1222ec',\n",
       " '2b9b2728-4048-4651-9012-8ee8faa57cc3',\n",
       " 'bfe48be8-cd0c-4300-835d-733556c2186e',\n",
       " '8d6886e5-b830-4d8c-8873-3a8d4115a8dd',\n",
       " 'b58c7ed6-e4cc-448f-8e7b-8f51dd2c3639',\n",
       " '45252c3e-b2b1-4250-8440-dfa5a1673553',\n",
       " 'f98fdbde-c2c7-4ee9-9c92-d8b82edc2305',\n",
       " '69d1a491-8039-4cc5-a0c7-1dfe9f470ba9',\n",
       " '1559ced5-0a08-45d9-a85e-8d95b47c6fcc',\n",
       " 'e8516dc2-56ed-4e3f-8b4e-03f01d945c59',\n",
       " 'bf2ee221-3120-4308-a200-52dcf4d481ee',\n",
       " '74e5b8ce-a844-417a-b312-721b4ac68c8d',\n",
       " 'f9f499ed-a6d2-45fc-b436-3fccfb40b656',\n",
       " '9dafac13-7bd6-4a05-b2ee-b3d26cd3efb8',\n",
       " '06ab185e-06c6-4947-971f-4d73f502e189',\n",
       " 'fb1a8d6b-cf84-4c0b-978e-a8e8138877d4',\n",
       " 'e4b34e4d-9cec-48e7-a0e1-e2951362e74a',\n",
       " '5d3724e8-2b38-4aea-b8df-feae9a3fa4f5',\n",
       " '723b287c-105e-497a-8e66-cdf948c512d5',\n",
       " 'f34f3434-e670-4845-89ae-6d267e68947b',\n",
       " '6d8ee751-73ec-4e6f-a6fa-b14929b3f824',\n",
       " '5ed9c21f-798a-4342-8668-5bd0bb651de2',\n",
       " '5b427d5e-6049-4345-8356-21622d82b9c9',\n",
       " 'f0aab384-15e2-491d-bcb4-35e2754bd8c9',\n",
       " '3b8c6488-fddf-4392-82cd-f6f9111348dd',\n",
       " 'a8947881-d37e-4302-8b3e-4f5341fa4efe',\n",
       " '39a1d9c1-9263-41d0-a757-2560e027d6d7',\n",
       " 'bc6547e9-c08d-4958-9a95-f1198b26cb86',\n",
       " '8442b44a-5028-430d-91d8-2f6a66325b35',\n",
       " 'c1ebcf03-d506-4d2a-a149-11d9c9d1c0f6',\n",
       " 'e5587acc-5594-440e-8613-26f45b448e1d',\n",
       " '386acc71-66cb-44b9-8af7-836ed49d96b6',\n",
       " 'c146419e-9431-49b3-88ff-188f5835b5a2',\n",
       " '34321f0e-e355-4f66-ad45-b820d6771933',\n",
       " '33ff56d3-be20-4dd3-a460-ae4d3790ed0d',\n",
       " '410b73ef-61a7-4150-ad77-b5f88fccb459',\n",
       " 'd28d35ae-ad61-4d33-8560-557bb1a58c6a',\n",
       " '564b1c2a-7579-489d-924b-5579546f5461',\n",
       " 'f7c54d3a-265a-40ea-81c8-bb94beb7ac2c',\n",
       " 'f6896bbe-d58e-427b-978d-0d5ab4632322',\n",
       " '7d5ef207-7c1b-400f-bce6-83b0639a1b68',\n",
       " 'e3929f07-1571-47d5-9260-6812c3b35e97',\n",
       " 'a89f5bd6-1371-452e-adde-a830b9997689',\n",
       " 'af9b87ca-f482-495a-9801-3b9be20b9894',\n",
       " '895246eb-c84d-4c7b-b1cb-b973515b4596',\n",
       " 'd3f53c3f-22a5-4a6b-986a-690af0255dfc']"
      ]
     },
     "execution_count": 7,
     "metadata": {},
     "output_type": "execute_result"
    }
   ],
   "source": [
    "from uuid import uuid4\n",
    "\n",
    "uuids = [str(uuid4()) for _ in range(len(pages_chunked[:50]))]\n",
    "\n",
    "vector_db_from_client.add_documents(documents=pages_chunked[:50], ids=uuids)"
   ]
  },
  {
   "cell_type": "code",
   "execution_count": 8,
   "metadata": {},
   "outputs": [
    {
     "data": {
      "text/plain": [
       "1"
      ]
     },
     "execution_count": 8,
     "metadata": {},
     "output_type": "execute_result"
    }
   ],
   "source": [
    "client.count_collections()"
   ]
  },
  {
   "cell_type": "code",
   "execution_count": 89,
   "metadata": {},
   "outputs": [],
   "source": [
    "# client.delete_collection(\"ai_model_book\")"
   ]
  },
  {
   "cell_type": "markdown",
   "metadata": {},
   "source": [
    "#### Task 4: Access ChromaDB and perform vector search\n",
    "\n",
    "**Objective:**\n",
    "\n",
    "Use query to perform vector search against ChromaDB vector database\n",
    "\n",
    "**Task Description:**\n",
    "\n",
    "- define query\n",
    "- run vector search\n",
    "- print k=3 most similar documents\n",
    "\n",
    "\n",
    "**Useful links:**\n",
    "\n",
    "- [Langchain Query ChromaDB](https://python.langchain.com/v0.2/docs/integrations/vectorstores/chroma/#query-directly)"
   ]
  },
  {
   "cell_type": "code",
   "execution_count": 9,
   "metadata": {},
   "outputs": [
    {
     "name": "stdout",
     "output_type": "stream",
     "text": [
      "Frame the Problem                                                                                                    39\n",
      "Select a Performance Measure                                                                                  42\n",
      "Check the Assumptions                                                                                             45\n",
      "Get the Data                                                                                                                    45\n",
      "Create the Workspace                                                                                                45\n",
      "Download the Data                                                                                                    49\n",
      "Take a Quick Look at the Data Structure                                                                50\n",
      "Create a Test Set                                                                                                          54\n",
      "Discover and Visualize the Data to Gain Insights                                                     58\n",
      "Visualizing Geographical Data                                                                                 59\n",
      "Looking for Correlations                                                                                           62\n",
      "Experimenting with Attribute Combinations                                                        65\n",
      "Prepare the Data for Machine Learning Algorithms                                                66\n",
      "Data Cleaning                                                                                                             67\n",
      "Handling Text and Categorical Attributes                                                              69\n",
      "Custom Transformers                                                                                                71\n",
      "Feature Scaling                                                                                                            72\n",
      "Transformation Pipelines                                                                                          73\n",
      "Select and Train a Model                                                                                               75\n",
      "Training and Evaluating on the Training Set                                                         75\n",
      "Better Evaluation Using Cross-Validation                                                              76\n",
      "Fine-Tune Y our Model                                                                                                  79\n",
      "Grid Search                                                                                                                 79\n",
      "Randomized Search                                                                                                   81\n",
      "Ensemble Methods                                                                                                     82\n",
      "Analyze the Best Models and Their Errors                                                             82\n",
      "Evaluate Y our System on the Test Set                                                                      83\n",
      "Launch, Monitor, and Maintain Y our System                                                            84\n",
      "Try It Out!                                                                                                                       85\n",
      "Exercises                                                                                                                          85\n",
      "3.Classification . . . . . . . . . . . . . . . . . . . . . . . . . . . . . . . . . . . . . . . . . . . . . . . . . . . . . . . . . . . . .  87\n",
      "MNIST                                                                                                                             87\n",
      "Training a Binary Classifier                                                                                          90\n",
      "Performance Measures                                                                                                  90\n",
      "{'page': 5, 'source': './AI_Book.pdf'}\n",
      "\n",
      "\n",
      "CHAPTER 1\n",
      "The Machine Learning Landscape\n",
      "With Early Release ebooks, you get books in their earliest form—\n",
      "the author’s raw and unedited content as he or she writes—so you\n",
      "can take advantage of these technologies long before the official\n",
      "release of these titles. The following will be Chapter 1 in the final\n",
      "release of the book.\n",
      "When most people hear “Machine Learning, ” they picture a robot: a dependable but‐\n",
      "ler or a deadly Terminator depending on who you ask. But Machine Learning is not\n",
      "just a futuristic fantasy, it’s already here. In fact, it has been around for decades in\n",
      "some specialized applications, such as Optical Character Recognition  (OCR). But the\n",
      "first ML application that really became mainstream, improving the lives of hundreds\n",
      "of millions of people, took over the world back in the 1990s: it was the spam filter .\n",
      "Not exactly a self-aware Skynet, but it does technically qualify as Machine Learning\n",
      "(it has actually learned so well that you seldom need to flag an email as spam any‐\n",
      "more). It was followed by hundreds of ML applications that now quietly power hun‐\n",
      "dreds of products and features that you use regularly, from better recommendations\n",
      "to voice search.\n",
      "Where does Machine Learning start and where does it end? What exactly does it\n",
      "mean for a machine to learn  something? If I download a copy of Wikipedia, has my\n",
      "computer really “learned” something? Is it suddenly smarter? In this chapter we will\n",
      "start by clarifying what Machine Learning is and why you may want to use it.\n",
      "Then, before we set out to explore the Machine Learning continent, we will take a\n",
      "look at the map and learn about the main regions and the most notable landmarks:\n",
      "supervised versus unsupervised learning, online versus batch learning, instance-\n",
      "based versus model-based learning. Then we will look at the workflow of a typical ML\n",
      "project, discuss the main challenges you may face, and cover how to evaluate and\n",
      "fine-tune a Machine Learning system.\n",
      "3\n",
      "{'page': 28, 'source': './AI_Book.pdf'}\n",
      "\n",
      "\n",
      "Figure 1-18. A few possible linear models\n",
      "Before you can use your model, you need to define the parameter values θ0 and θ1.\n",
      "How can you know which values will make your model perform best? To answer this\n",
      "question, you need to specify a performance measure. Y ou can either define a utility\n",
      "function  (or fitness  function ) that measures how good  your model is, or you can define\n",
      "a cost function  that measures how bad it is. For linear regression problems, people\n",
      "typically use a cost function that measures the distance between the linear model’s\n",
      "predictions and the training examples; the objective is to minimize this distance.\n",
      "This is where the Linear Regression algorithm comes in: you feed it your training\n",
      "examples and it finds the parameters that make the linear model fit best to your data.\n",
      "This is called training  the model. In our case the algorithm finds that the optimal\n",
      "parameter values are θ0 = 4.85 and θ1 = 4.91 × 10–5.\n",
      "Now the model fits the training data as closely as possible (for a linear model), as you\n",
      "can see in Figure 1-19 .\n",
      "Figure 1-19. The linear model that fits the training data best\n",
      "Types of Machine Learning Systems | 21\n",
      "{'page': 46, 'source': './AI_Book.pdf'}\n",
      "\n",
      "\n"
     ]
    }
   ],
   "source": [
    "search_query = \"Types of Machine Learning Systems\"\n",
    "\n",
    "results = vector_db_from_client.similarity_search(\n",
    "    \"search_query\",\n",
    "    k=3\n",
    ")\n",
    "for res in results:\n",
    "    print(res.page_content)\n",
    "    print(res.metadata)\n",
    "    print(\"\\n\")"
   ]
  }
 ],
 "metadata": {
  "kernelspec": {
   "display_name": ".venv",
   "language": "python",
   "name": "python3"
  },
  "language_info": {
   "codemirror_mode": {
    "name": "ipython",
    "version": 3
   },
   "file_extension": ".py",
   "mimetype": "text/x-python",
   "name": "python",
   "nbconvert_exporter": "python",
   "pygments_lexer": "ipython3",
   "version": "3.11.9"
  }
 },
 "nbformat": 4,
 "nbformat_minor": 2
}
