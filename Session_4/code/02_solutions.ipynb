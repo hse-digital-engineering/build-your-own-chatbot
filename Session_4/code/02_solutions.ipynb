{
 "cells": [
  {
   "cell_type": "code",
   "execution_count": 1,
   "metadata": {},
   "outputs": [],
   "source": [
    "model = \"llama3.2:1B\""
   ]
  },
  {
   "cell_type": "markdown",
   "metadata": {},
   "source": [
    "#### Task 1: Simple Chain with Retrieval\n",
    "\n",
    "**Objective:**\n",
    "\n",
    "Implement a simple RAG chain with ChatOllama, HuggingFaceEmbeddings and Chroma.\n",
    "\n",
    "Process:\n",
    "\n",
    "1. Retrieve documents from chroma db based on query\n",
    "2. Invoke chain with retrieved documents as input\n",
    "\n",
    "**Task Description:**\n",
    "\n",
    "- load llm model via ollama\n",
    "- load embedding model via ollama with `ollama pull pull bge-m3` (if not yet done)\n",
    "- create chroma db client\n",
    "- create prompt template for summarization\n",
    "- create simple chain with following steps: retrieved documents, prompt, model, output parser\n",
    "- create query and perform similarity search with a query\n",
    "- invoke chain and pass retrieved documents to the chain\n",
    "\n",
    "**Useful links:**\n",
    "\n",
    "- [RAG with Ollama](https://python.langchain.com/v0.2/docs/tutorials/local_rag/)\n"
   ]
  },
  {
   "cell_type": "code",
   "execution_count": 2,
   "metadata": {},
   "outputs": [],
   "source": [
    "from langchain_ollama import ChatOllama\n",
    "\n",
    "model = ChatOllama(model=model)"
   ]
  },
  {
   "cell_type": "code",
   "execution_count": 3,
   "metadata": {},
   "outputs": [],
   "source": [
    "from langchain_ollama import OllamaEmbeddings\n",
    "\n",
    "embedding_model = OllamaEmbeddings(\n",
    "    model=\"bge-m3\",\n",
    ")"
   ]
  },
  {
   "cell_type": "code",
   "execution_count": 4,
   "metadata": {},
   "outputs": [],
   "source": [
    "from langchain_chroma import Chroma\n",
    "import chromadb\n",
    "import chromadb\n",
    "from chromadb.config import DEFAULT_TENANT, DEFAULT_DATABASE, Settings\n",
    "\n",
    "client = chromadb.HttpClient(\n",
    "    host=\"localhost\",\n",
    "    port=8000,\n",
    "    ssl=False,\n",
    "    headers=None,\n",
    "    settings=Settings(allow_reset=True, anonymized_telemetry=False),\n",
    "    tenant=DEFAULT_TENANT,\n",
    "    database=DEFAULT_DATABASE,\n",
    ")\n",
    "\n",
    "collection = client.get_or_create_collection(\"ai_model_book\")\n",
    "\n",
    "vector_db_from_client = Chroma(\n",
    "    client=client,\n",
    "    collection_name=\"ai_model_book\",\n",
    "    embedding_function=embedding_model,\n",
    ")"
   ]
  },
  {
   "cell_type": "code",
   "execution_count": 5,
   "metadata": {},
   "outputs": [],
   "source": [
    "from langchain_core.output_parsers import StrOutputParser\n",
    "from langchain_core.prompts import ChatPromptTemplate\n",
    "\n",
    "prompt = ChatPromptTemplate.from_template(\n",
    "    \"Summarize the main themes in these retrieved docs: {docs}\"\n",
    ")\n",
    "\n",
    "\n",
    "# Convert loaded documents into strings by concatenating their content\n",
    "# and ignoring metadata\n",
    "def format_docs(docs):\n",
    "    return \"\\n\\n\".join(doc.page_content for doc in docs)\n",
    "\n",
    "\n",
    "chain = {\"docs\": format_docs} | prompt | model | StrOutputParser()"
   ]
  },
  {
   "cell_type": "code",
   "execution_count": 7,
   "metadata": {},
   "outputs": [
    {
     "name": "stdout",
     "output_type": "stream",
     "text": [
      "[Document(id='4231ed16-567d-4433-ae62-b8225ab5ba65', metadata={'creationdate': '2019-05-07T15:51:31+00:00', 'creator': 'AH CSS Formatter V6.2 MR4 for Linux64 : 6.2.6.18551 (2014/09/24 15:00JST)', 'moddate': '2019-05-07T15:51:31+00:00', 'page': 33, 'page_label': '8', 'producer': 'Antenna House PDF Output Library 6.2.609 (Linux64)', 'source': 'src/AI_Book.pdf', 'title': 'Hands-On Machine Learning with Scikit-Learn and TensorFlow', 'total_pages': 510, 'trapped': '/False'}, page_content='Types of Machine Learning Systems\\nThere are so many different types of Machine Learning systems that it is useful to\\nclassify them in broad categories based on:\\n• Whether or not they are trained with human supervision (supervised, unsuper‐\\nvised, semisupervised, and Reinforcement Learning)\\n• Whether or not they can learn incrementally on the fly (online versus batch\\nlearning)\\n• Whether they work by simply comparing new data points to known data points,\\nor instead detect patterns in the training data and build a predictive model, much\\nlike scientists do (instance-based versus model-based learning)\\nThese criteria are not exclusive; you can combine them in any way you like. For\\nexample, a state-of-the-art spam filter may learn on the fly using a deep neural net‐\\nwork model trained using examples of spam and ham; this makes it an online, model-\\nbased, supervised learning system.\\nLet’s look at each of these criteria a bit more closely.\\nSupervised/Unsupervised Learning\\nMachine Learning systems can be classified according to the amount and type of\\nsupervision they get during training. There are four major categories: supervised\\nlearning, unsupervised learning, semisupervised learning, and Reinforcement Learn‐\\ning.\\nSupervised learning\\nIn supervised learning, the training data you feed to the algorithm includes the desired\\nsolutions, called labels (Figure 1-5).\\nFigure 1-5. A labeled training set for supervised learning (e.g., spam classification)\\n8 | Chapter 1: The Machine Learning Landscape'), Document(id='1d6b390f-9068-44e9-8a1c-a9648141866b', metadata={'creationdate': '2019-05-07T15:51:31+00:00', 'creator': 'AH CSS Formatter V6.2 MR4 for Linux64 : 6.2.6.18551 (2014/09/24 15:00JST)', 'moddate': '2019-05-07T15:51:31+00:00', 'page': 33, 'page_label': '8', 'producer': 'Antenna House PDF Output Library 6.2.609 (Linux64)', 'source': 'src/AI_Book.pdf', 'title': 'Hands-On Machine Learning with Scikit-Learn and TensorFlow', 'total_pages': 510, 'trapped': '/False'}, page_content='Types of Machine Learning Systems\\nThere are so many different types of Machine Learning systems that it is useful to\\nclassify them in broad categories based on:\\n• Whether or not they are trained with human supervision (supervised, unsuper‐\\nvised, semisupervised, and Reinforcement Learning)\\n• Whether or not they can learn incrementally on the fly (online versus batch\\nlearning)\\n• Whether they work by simply comparing new data points to known data points,\\nor instead detect patterns in the training data and build a predictive model, much\\nlike scientists do (instance-based versus model-based learning)\\nThese criteria are not exclusive; you can combine them in any way you like. For\\nexample, a state-of-the-art spam filter may learn on the fly using a deep neural net‐\\nwork model trained using examples of spam and ham; this makes it an online, model-\\nbased, supervised learning system.\\nLet’s look at each of these criteria a bit more closely.\\nSupervised/Unsupervised Learning\\nMachine Learning systems can be classified according to the amount and type of\\nsupervision they get during training. There are four major categories: supervised\\nlearning, unsupervised learning, semisupervised learning, and Reinforcement Learn‐\\ning.\\nSupervised learning\\nIn supervised learning, the training data you feed to the algorithm includes the desired\\nsolutions, called labels (Figure 1-5).\\nFigure 1-5. A labeled training set for supervised learning (e.g., spam classification)\\n8 | Chapter 1: The Machine Learning Landscape'), Document(id='af47ab55-1776-4aad-97f6-714033f6d96a', metadata={'creationdate': '2019-05-07T15:51:31+00:00', 'creator': 'AH CSS Formatter V6.2 MR4 for Linux64 : 6.2.6.18551 (2014/09/24 15:00JST)', 'moddate': '2019-05-07T15:51:31+00:00', 'page': 43, 'page_label': '18', 'producer': 'Antenna House PDF Output Library 6.2.609 (Linux64)', 'source': 'src/AI_Book.pdf', 'title': 'Hands-On Machine Learning with Scikit-Learn and TensorFlow', 'total_pages': 510, 'trapped': '/False'}, page_content='results. To reduce this risk, you need to monitor your system closely and promptly\\nswitch learning off (and possibly revert to a previously working state) if you detect a\\ndrop in performance. Y ou may also want to monitor the input data and react to\\nabnormal data (e.g., using an anomaly detection algorithm).\\nInstance-Based Versus Model-Based Learning\\nOne more way to categorize Machine Learning systems is by how they generalize.\\nMost Machine Learning tasks are about making predictions. This means that given a\\nnumber of training examples, the system needs to be able to generalize to examples it\\nhas never seen before. Having a good performance measure on the training data is\\ngood, but insufficient; the true goal is to perform well on new instances.\\nThere are two main approaches to generalization: instance-based learning and\\nmodel-based learning.\\nInstance-based learning\\nPossibly the most trivial form of learning is simply to learn by heart. If you were to\\ncreate a spam filter this way, it would just flag all emails that are identical to emails\\nthat have already been flagged by users—not the worst solution, but certainly not the\\nbest.\\nInstead of just flagging emails that are identical to known spam emails, your spam\\nfilter could be programmed to also flag emails that are very similar to known spam\\nemails. This requires a measure of similarity between two emails. A (very basic) simi‐\\nlarity measure between two emails could be to count the number of words they have\\nin common. The system would flag an email as spam if it has many words in com‐\\nmon with a known spam email.\\nThis is called instance-based learning: the system learns the examples by heart, then\\ngeneralizes to new cases by comparing them to the learned examples (or a subset of\\nthem), using a similarity measure. For example, in Figure 1-15  the new instance\\nwould be classified as a triangle because the majority of the most similar instances\\nbelong to that class.\\n18 | Chapter 1: The Machine Learning Landscape'), Document(id='092764ff-1334-4b71-8487-5476f78b2fa5', metadata={'creationdate': '2019-05-07T15:51:31+00:00', 'creator': 'AH CSS Formatter V6.2 MR4 for Linux64 : 6.2.6.18551 (2014/09/24 15:00JST)', 'moddate': '2019-05-07T15:51:31+00:00', 'page': 43, 'page_label': '18', 'producer': 'Antenna House PDF Output Library 6.2.609 (Linux64)', 'source': 'src/AI_Book.pdf', 'title': 'Hands-On Machine Learning with Scikit-Learn and TensorFlow', 'total_pages': 510, 'trapped': '/False'}, page_content='results. To reduce this risk, you need to monitor your system closely and promptly\\nswitch learning off (and possibly revert to a previously working state) if you detect a\\ndrop in performance. Y ou may also want to monitor the input data and react to\\nabnormal data (e.g., using an anomaly detection algorithm).\\nInstance-Based Versus Model-Based Learning\\nOne more way to categorize Machine Learning systems is by how they generalize.\\nMost Machine Learning tasks are about making predictions. This means that given a\\nnumber of training examples, the system needs to be able to generalize to examples it\\nhas never seen before. Having a good performance measure on the training data is\\ngood, but insufficient; the true goal is to perform well on new instances.\\nThere are two main approaches to generalization: instance-based learning and\\nmodel-based learning.\\nInstance-based learning\\nPossibly the most trivial form of learning is simply to learn by heart. If you were to\\ncreate a spam filter this way, it would just flag all emails that are identical to emails\\nthat have already been flagged by users—not the worst solution, but certainly not the\\nbest.\\nInstead of just flagging emails that are identical to known spam emails, your spam\\nfilter could be programmed to also flag emails that are very similar to known spam\\nemails. This requires a measure of similarity between two emails. A (very basic) simi‐\\nlarity measure between two emails could be to count the number of words they have\\nin common. The system would flag an email as spam if it has many words in com‐\\nmon with a known spam email.\\nThis is called instance-based learning: the system learns the examples by heart, then\\ngeneralizes to new cases by comparing them to the learned examples (or a subset of\\nthem), using a similarity measure. For example, in Figure 1-15  the new instance\\nwould be classified as a triangle because the majority of the most similar instances\\nbelong to that class.\\n18 | Chapter 1: The Machine Learning Landscape')]\n"
     ]
    }
   ],
   "source": [
    "search_query = \"Types of Machine Learning Systems\"\n",
    "\n",
    "docs = vector_db_from_client.similarity_search(search_query)\n",
    "\n",
    "print(docs)"
   ]
  },
  {
   "cell_type": "code",
   "execution_count": null,
   "metadata": {},
   "outputs": [
    {
     "data": {
      "text/plain": [
       "\"The retrieved documents discuss various types and subcategories of machine learning (ML) systems. Here's a summary of the main themes:\\n\\n1. **Classification of ML Systems**: The authors categorize ML systems into four major groups based on the amount and type of supervision, including:\\n\\t* Supervised Learning: training data with labels\\n\\t* Unsupervised Learning: no explicit labels or training data\\n\\t* Semisupervised Learning: a combination of labeled and unlabeled data\\n\\t* Reinforcement Learning: learning through trial and error\\n\\n2. **Supervision**: The importance of supervision in ML is highlighted, including the need for monitoring performance and adapting to changes in data.\\n\\n3. **Learning Paradigms**:\\n\\t* Supervised Learning: where the system learns from labeled data and generalizes to new instances\\n\\t* Unsupervised Learning: where the system learns from unlabeled data and finds patterns or structures\\n\\t* Semisupervised Learning: a combination of supervised and unsupervised learning\\n\\n4. **Learning Methods**:\\n\\t* Instance-Based Learning (IBL): where the system learns by comparing examples to previously learned instances, using similarity measures\\n\\t* Model-Based Learning (MBL): where the system learns from predefined models and generalizes to new data\\n\\n5. **Generalization**: The ability of ML systems to perform well on unseen data is emphasized as a key consideration in machine learning design.\\n\\n6. **Adaptability and Adaptation**: The need for ML systems to adapt to changing data distributions, user behavior, or other factors is highlighted.\\n\\n7. **Monitoring and Feedback**: Regular monitoring and feedback are essential for ensuring the accuracy and performance of ML systems.\\n\\n8. **Robustness and Safety**: Addressing issues related to overfitting, underfitting, and model drift is crucial in machine learning design to ensure robustness and safety.\\n\\nThese themes highlight the complexities involved in designing effective machine learning systems that can adapt to changing conditions while maintaining accuracy and performance.\""
      ]
     },
     "execution_count": 8,
     "metadata": {},
     "output_type": "execute_result"
    }
   ],
   "source": [
    "# Simple chain invoke\n",
    "chain.invoke(docs)"
   ]
  },
  {
   "cell_type": "code",
   "execution_count": null,
   "metadata": {},
   "outputs": [
    {
     "name": "stdout",
     "output_type": "stream",
     "text": [
      "Based on the retrieved documents, the main themes in the topic \"Types of Machine Learning Systems\" are:\n",
      "\n",
      "1. **Classification**: Machine learning systems can be classified into different categories based on their characteristics, such as whether they are trained with human supervision, learn incrementally, or work by detecting patterns.\n",
      "\n",
      "2. **Supervised vs. Unsupervised Learning**: The distinction between supervised and unsupervised learning is crucial in machine learning. Supervised learning involves labeling data to train the model, while unsupervised learning involves identifying patterns in unlabeled data.\n",
      "\n",
      "3. **Instance-Based vs. Model-Based Learning**: Instance-based learning focuses on making predictions by comparing new instances to existing ones, whereas model-based learning involves building a predictive model that can generalize to new instances.\n",
      "\n",
      "4. **Generalization**: The ability of machine learning systems to generalize to new instances is critical in various applications, such as spam filtering and recommender systems.\n",
      "\n",
      "5. **Risk Management**: Implementing risk management strategies is essential in machine learning, particularly when dealing with uncertainty and unpredictability, as highlighted by the examples provided.\n",
      "\n",
      "6. **Data Preparation**: The quality of data plays a significant role in the performance of machine learning models, highlighting the importance of proper data preprocessing techniques.\n",
      "\n",
      "7. **Evaluation Metrics**: The evaluation of machine learning systems is crucial to assess their performance, which is often measured using metrics such as accuracy, precision, recall, and F1-score.\n",
      "\n",
      "8. **Real-World Applications**: Machine learning systems have numerous real-world applications, including spam filtering, image classification, natural language processing, and predictive modeling, among others."
     ]
    }
   ],
   "source": [
    "# Simple stream the chain output\n",
    "for chunk in chain.stream(docs):\n",
    "    print(chunk, end=\"\", flush=True)"
   ]
  },
  {
   "cell_type": "code",
   "execution_count": null,
   "metadata": {},
   "outputs": [
    {
     "name": "stdout",
     "output_type": "stream",
     "text": [
      "The retrieved docs provide an overview of different types of Machine Learning (ML) systems. Here are the main themes summarized:\n",
      "\n",
      "1. **Machine Learning Systems Classification**: The docs discuss how ML systems can be classified based on four criteria:\n",
      "\t* Training data type (supervised, unsupervised, semisupervised, and Reinforcement Learning)\n",
      "\t* Learning approach (online versus batch learning)\n",
      "\t* Generalization method (instance-based or model-based)\n",
      "2. **Supervised vs. Unsupervised Learning**: The docs explain the differences between supervised and unsupervised ML systems:\n",
      "\t* Supervised learning: training data includes desired solutions (labels) and is used to make predictions\n",
      "\t* Unsupervised learning: training data does not include labels, and algorithms learn to identify patterns in the data\n",
      "3. **Instance-Based vs. Model-Based Learning**: The docs highlight two main approaches to generalization:\n",
      "\t* Instance-based learning: systems learn by heart, comparing new instances to previously learned examples (e.g., a spam filter)\n",
      "\t* Model-based learning: systems build predictive models based on training data and compare them to new instances\n",
      "4. **Types of ML Systems**: The docs categorize ML systems into four main types:\n",
      "\t* Supervised learning systems that use labels or expected outcomes to train models\n",
      "\t* Unsupervised learning systems that identify patterns in the data without labels\n",
      "\t* Semisupervised learning systems that combine labeled and unlabeled data for improved performance\n",
      "\t* Reinforcement learning systems that learn from trial and error"
     ]
    }
   ],
   "source": [
    "# More complex async event streaming\n",
    "async for event in chain.astream_events(docs, version=\"v2\"):\n",
    "    kind = event[\"event\"]\n",
    "    if kind == \"on_chat_model_stream\":\n",
    "        print(event[\"data\"][\"chunk\"].content, end=\"\", flush=True)"
   ]
  },
  {
   "cell_type": "markdown",
   "metadata": {},
   "source": [
    "#### Task 2: Q&A with RAG\n",
    "\n",
    "**Objective:**\n",
    "\n",
    "Implement a Q/A retrieval chain with ChatOllama, HuggingFaceEmbeddings and Chroma\n",
    "\n",
    "**Task Description:**\n",
    "\n",
    "- create RAG-Q/A prompt template\n",
    "- create retriever from vector db client (instead of manually passing in docs, we automatically retrieve them from our vector store based on the user question)\n",
    "- create simple chain with following steps: retriever, formatting retrieved docs, user question, prompt, model, output parser\n",
    "- create question for Q/A retrieval chain\n",
    "- invoke chain and with question\n",
    "\n",
    "**Useful links:**\n",
    "\n",
    "- [RAG with Ollama](https://python.langchain.com/v0.2/docs/tutorials/local_rag/)\n"
   ]
  },
  {
   "cell_type": "code",
   "execution_count": null,
   "metadata": {},
   "outputs": [],
   "source": [
    "from langchain_core.runnables import RunnablePassthrough\n",
    "\n",
    "prompt_template = \"\"\"\n",
    "You are an assistant for question-answering tasks. Use the following pieces of retrieved context to answer the question. If you don't know the answer, just say that you don't know. Use three sentences maximum and keep the answer concise.\n",
    "\n",
    "<context>\n",
    "{context}\n",
    "</context>\n",
    "\n",
    "Answer the following question:\n",
    "\n",
    "{question}\"\"\"\n",
    "\n",
    "rag_prompt = ChatPromptTemplate.from_template(prompt_template)\n",
    "\n",
    "retriever = vector_db_from_client.as_retriever()\n",
    "\n",
    "qa_rag_chain = (\n",
    "    {\"context\": retriever | format_docs, \"question\": RunnablePassthrough()}\n",
    "    | rag_prompt\n",
    "    | model\n",
    "    | StrOutputParser()\n",
    ")"
   ]
  },
  {
   "cell_type": "code",
   "execution_count": 17,
   "metadata": {},
   "outputs": [
    {
     "data": {
      "text/plain": [
       "{\n",
       "  context: VectorStoreRetriever(tags=['Chroma', 'OllamaEmbeddings'], vectorstore=<langchain_chroma.vectorstores.Chroma object at 0x114b82790>, search_kwargs={})\n",
       "           | RunnableLambda(format_docs),\n",
       "  question: RunnablePassthrough()\n",
       "}\n",
       "| ChatPromptTemplate(input_variables=['context', 'question'], input_types={}, partial_variables={}, messages=[HumanMessagePromptTemplate(prompt=PromptTemplate(input_variables=['context', 'question'], input_types={}, partial_variables={}, template=\"\\nYou are an assistant for question-answering tasks. Use the following pieces of retrieved context to answer the question. If you don't know the answer, just say that you don't know. Use three sentences maximum and keep the answer concise.\\n\\n<context>\\n{context}\\n</context>\\n\\nAnswer the following question:\\n\\n{question}\"), additional_kwargs={})])\n",
       "| ChatOllama(model='llama3.2:1B')\n",
       "| StrOutputParser()"
      ]
     },
     "execution_count": 17,
     "metadata": {},
     "output_type": "execute_result"
    }
   ],
   "source": [
    "qa_rag_chain"
   ]
  },
  {
   "cell_type": "code",
   "execution_count": 18,
   "metadata": {},
   "outputs": [
    {
     "data": {
      "text/plain": [
       "'Supervised learning is a type of machine learning where the system learns to map inputs (features) to outputs (labels or targets) using labeled data. In other words, the training data contains both input features and corresponding labels that define the correct output. The goal of supervised learning is to create a model that can predict the label for new, unseen inputs based on the patterns learned from the labeled data.'"
      ]
     },
     "execution_count": 18,
     "metadata": {},
     "output_type": "execute_result"
    }
   ],
   "source": [
    "question = \"What is supervised learning?\"\n",
    "\n",
    "qa_rag_chain.invoke(question)"
   ]
  },
  {
   "cell_type": "code",
   "execution_count": 19,
   "metadata": {},
   "outputs": [
    {
     "name": "stdout",
     "output_type": "stream",
     "text": [
      "Supervised learning is a type of machine learning where an algorithm is trained on labeled data, meaning that the correct output or label for each input is already known. The goal is to train the algorithm so it can make predictions or decisions based on new, unseen data by learning from examples with correct and incorrect outputs."
     ]
    }
   ],
   "source": [
    "# More complex async event streaming\n",
    "async for event in qa_rag_chain.astream_events(question, version=\"v2\"):\n",
    "    kind = event[\"event\"]\n",
    "    if kind == \"on_chat_model_stream\":\n",
    "        print(event[\"data\"][\"chunk\"].content, end=\"\", flush=True)"
   ]
  },
  {
   "cell_type": "markdown",
   "metadata": {},
   "source": [
    "#### Alternative: Using pre-built ConversationalRetrievalChain Class"
   ]
  },
  {
   "cell_type": "code",
   "execution_count": 6,
   "metadata": {},
   "outputs": [],
   "source": [
    "from langchain.chains import ConversationalRetrievalChain\n",
    "from langchain.memory import ConversationBufferMemory"
   ]
  },
  {
   "cell_type": "code",
   "execution_count": 7,
   "metadata": {},
   "outputs": [
    {
     "name": "stderr",
     "output_type": "stream",
     "text": [
      "/var/folders/4_/gdhx54ks4g90mppmxc0wny5m0000gn/T/ipykernel_68637/2064999211.py:2: LangChainDeprecationWarning: Please see the migration guide at: https://python.langchain.com/docs/versions/migrating_memory/\n",
      "  memory = ConversationBufferMemory(memory_key=\"chat_history\", return_messages=True)\n"
     ]
    }
   ],
   "source": [
    "retriever = vector_db_from_client.as_retriever()\n",
    "memory = ConversationBufferMemory(memory_key=\"chat_history\", return_messages=True)"
   ]
  },
  {
   "cell_type": "code",
   "execution_count": 8,
   "metadata": {},
   "outputs": [],
   "source": [
    "qa_chain = ConversationalRetrievalChain.from_llm(\n",
    "    model, retriever=retriever, memory=memory, verbose=False\n",
    ")"
   ]
  },
  {
   "cell_type": "code",
   "execution_count": 10,
   "metadata": {},
   "outputs": [
    {
     "name": "stdout",
     "output_type": "stream",
     "text": [
      "Supervised learning is a type of machine learning where an algorithm is trained on labeled data, meaning that each sample or instance has a corresponding target or outcome. The goal of supervised learning is to learn a mapping between input data and output labels or classes, so that the algorithm can predict the correct label for new, unseen input data.\n",
      "\n",
      "In other words, in supervised learning:\n",
      "\n",
      "1. **Data is labeled**: Each sample or instance is assigned a label or output variable.\n",
      "2. **Algorithm learns from data**: The algorithm is trained on the labeled data to learn patterns and relationships between inputs and outputs.\n",
      "3. **Predictions are made**: Once the algorithm has learned from the data, it can make predictions on new, unseen input data by using its learned mapping.\n",
      "\n",
      "Supervised learning algorithms typically involve the following steps:\n",
      "\n",
      "1. **Data preprocessing**: Cleaning, transforming, and preparing the labeled data for training.\n",
      "2. **Model selection**: Choosing a suitable supervised learning algorithm (e.g., linear regression, decision trees).\n",
      "3. **Training**: Training the model on the labeled data to learn from it.\n",
      "4. **Testing**: Testing the trained model on new, unseen data to evaluate its performance.\n",
      "\n",
      "Supervised learning is used in many real-world applications, such as:\n",
      "\n",
      "* Image classification\n",
      "* Speech recognition\n",
      "* Predicting customer churn\n",
      "* Anomaly detection\n",
      "* recommender systems\n",
      "\n",
      "Examples of supervised learning algorithms include:\n",
      "\n",
      "* Linear regression\n",
      "* Decision trees\n",
      "* Random forests\n",
      "* Support vector machines (SVMs)\n",
      "* Neural networks"
     ]
    }
   ],
   "source": [
    "# More complex async event streaming\n",
    "async for event in qa_chain.astream_events(\"What is supervised learning?\", version=\"v2\"):\n",
    "    kind = event[\"event\"]\n",
    "    if kind == \"on_chat_model_stream\":\n",
    "        print(event[\"data\"][\"chunk\"].content, end=\"\", flush=True)"
   ]
  },
  {
   "cell_type": "code",
   "execution_count": 11,
   "metadata": {},
   "outputs": [
    {
     "name": "stdout",
     "output_type": "stream",
     "text": [
      "Here's a rephrased version of the follow-up question as a standalone question:\n",
      "\n",
      "What are some common types of supervised learning algorithms used for real-world applications?There are several common types of supervised learning algorithms used for real-world applications. Some examples include:\n",
      "\n",
      "k-Nearest Neighbors\n",
      "Linear Regression\n",
      "Logistic Regression\n",
      "Support Vector Machines (SVMs)\n",
      "Decision Trees and Random Forests\n",
      "Neural networks2\n",
      "These algorithms can be broadly categorized into two main groups: instance-based learning, where the algorithm builds a model from individual data points, and model-based learning, where the algorithm builds a model that generalizes to unseen data."
     ]
    }
   ],
   "source": [
    "# More complex async event streaming\n",
    "async for event in qa_chain.astream_events(\"Which algorithm was the last one in your list?\", version=\"v2\"):\n",
    "    kind = event[\"event\"]\n",
    "    if kind == \"on_chat_model_stream\":\n",
    "        print(event[\"data\"][\"chunk\"].content, end=\"\", flush=True)"
   ]
  }
 ],
 "metadata": {
  "kernelspec": {
   "display_name": ".venv",
   "language": "python",
   "name": "python3"
  },
  "language_info": {
   "codemirror_mode": {
    "name": "ipython",
    "version": 3
   },
   "file_extension": ".py",
   "mimetype": "text/x-python",
   "name": "python",
   "nbconvert_exporter": "python",
   "pygments_lexer": "ipython3",
   "version": "3.11.9"
  }
 },
 "nbformat": 4,
 "nbformat_minor": 2
}
