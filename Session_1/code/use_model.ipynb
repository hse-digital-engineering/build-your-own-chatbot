{
 "cells": [
  {
   "cell_type": "code",
   "execution_count": 1,
   "metadata": {},
   "outputs": [],
   "source": [
    "import ollama"
   ]
  },
  {
   "cell_type": "code",
   "execution_count": 3,
   "metadata": {},
   "outputs": [
    {
     "name": "stdout",
     "output_type": "stream",
     "text": [
      "The color of the sky is typically called sky blue, which comes from the spectral composition of the sunlit regions of the Earth's atmosphere during the daytime. The bluish tint is due to the presence of chlorine and other elements that absorb blue light in addition to some other elements like carbon, oxygen, and nitrogen.\n",
      "\n",
      "Blue is actually one of the colors that humans can perceive, along with green and red. However, it's less common than these three colors due to a combination of factors including absorption by various materials and how we interpret them in our environment. \n",
      "\n",
      "Blue seems to be particularly associated with water, which has a high absorbance in the blue portion of the spectrum (500-700 nm) due to its chemical composition and physical structure. This is why you see the ocean blue sea on some sunny days and even clouds that look like they're covered in blue droplets when looking up at them from below.\n",
      "\n",
      "In general, blue is considered a secondary color, meaning that it's less commonly used than red or green colors as primary ones based on their dominance in the visual perception of humans. However, some technologies use blue light to create specific colors, such as those found in LED lights and projectors.\n"
     ]
    }
   ],
   "source": [
    "response = ollama.chat(model='tinyllama', messages=[\n",
    "  {\n",
    "    'role': 'user',\n",
    "    'content': 'Why is the sky blue?',\n",
    "  },\n",
    "])\n",
    "print(response['message']['content'])"
   ]
  },
  {
   "cell_type": "code",
   "execution_count": 2,
   "metadata": {},
   "outputs": [
    {
     "name": "stdout",
     "output_type": "stream",
     "text": [
      "The sky is blue due to the combination of a large amount of tiny particles that make up the air. These particles, known as sunflowers, have various colors and sizes depending on their composition. Sunflowers are typically composed of hydrocarbons such as carbon dioxide (CO2), oxygen (O2), and methane (CH4). The specific color of the sky is influenced by the ratio of these compounds in the air, which varies depending on altitude, weather conditions, and local geography.\n",
      "\n",
      "The blue-violet spectrum that we perceive as blue comes from the absorption of long-wavelength ultraviolet (UV) light by atmospheric nitrogen. Nitrogen atoms absorb the UV light with a wavelength of 315 nanometers, which causes them to emit blue radiation at 440 nanometers.\n",
      "\n",
      "There are other compounds in the air besides CO2, O2, and CH4 that contribute to the color of the sky. These include water vapor, volatile organic compounds (VOCs), and aerosols such as dust and smoke. The amount of each compound changes depending on various factors such as temperature, humidity, wind speed, and altitude. It is these variations that cause the colors in the sky to shift from blues, greens, purples, oranges, pinks, reds, and yellows."
     ]
    }
   ],
   "source": [
    "stream = ollama.chat(\n",
    "    model='tinyllama',\n",
    "    messages=[{'role': 'user', 'content': 'Why is the sky blue?'}],\n",
    "    stream=True,\n",
    ")\n",
    "\n",
    "for chunk in stream:\n",
    "  print(chunk['message']['content'], end='', flush=True)"
   ]
  },
  {
   "cell_type": "code",
   "execution_count": null,
   "metadata": {},
   "outputs": [],
   "source": []
  }
 ],
 "metadata": {
  "kernelspec": {
   "display_name": ".venv",
   "language": "python",
   "name": "python3"
  },
  "language_info": {
   "codemirror_mode": {
    "name": "ipython",
    "version": 3
   },
   "file_extension": ".py",
   "mimetype": "text/x-python",
   "name": "python",
   "nbconvert_exporter": "python",
   "pygments_lexer": "ipython3",
   "version": "3.11.9"
  }
 },
 "nbformat": 4,
 "nbformat_minor": 2
}
